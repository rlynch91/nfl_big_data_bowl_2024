{
 "cells": [
  {
   "cell_type": "code",
   "execution_count": 1,
   "id": "0384a721-ee2f-40ea-849b-43fb28e7f19a",
   "metadata": {},
   "outputs": [],
   "source": [
    "import numpy as np\n",
    "from sklearn.metrics import accuracy_score\n",
    "from sklearn.metrics import r2_score"
   ]
  },
  {
   "cell_type": "markdown",
   "id": "65f79715-b536-4288-8622-ee782a042496",
   "metadata": {},
   "source": [
    "# Empirical validation"
   ]
  },
  {
   "cell_type": "code",
   "execution_count": 2,
   "id": "d84cda27-aa13-4848-9b2a-b3b7ab6be0ae",
   "metadata": {},
   "outputs": [],
   "source": [
    "nsamp = 1000000\n",
    "prob = 0.524\n",
    "\n",
    "real = (2.*np.random.randint(2,size=nsamp) - 1.).astype(int)\n",
    "pred_inds = np.random.choice(range(nsamp), size=int((1.-prob)*nsamp), replace=False)\n",
    "\n",
    "pred = 1.*real\n",
    "pred[pred_inds] *= -1"
   ]
  },
  {
   "cell_type": "code",
   "execution_count": 3,
   "id": "2cb1866a-688a-427b-8566-6811f0fd5315",
   "metadata": {},
   "outputs": [
    {
     "name": "stdout",
     "output_type": "stream",
     "text": [
      "predictive accuracy:  0.524\n"
     ]
    }
   ],
   "source": [
    "tmp = accuracy_score(real,pred)\n",
    "print('predictive accuracy: ', tmp)"
   ]
  },
  {
   "cell_type": "code",
   "execution_count": 4,
   "id": "9a606edd-ccaf-40c5-b955-b57dfed30fe2",
   "metadata": {},
   "outputs": [
    {
     "name": "stdout",
     "output_type": "stream",
     "text": [
      "predictive R^2:  0.002303358277529366\n"
     ]
    }
   ],
   "source": [
    "tmp = r2_score(real, pred*(real@pred)/(pred@pred))\n",
    "print('predictive R^2: ', tmp)"
   ]
  },
  {
   "cell_type": "code",
   "execution_count": 5,
   "id": "47f65031-d8ee-4c90-b743-1ee46e330289",
   "metadata": {},
   "outputs": [
    {
     "name": "stdout",
     "output_type": "stream",
     "text": [
      "predictive sqrt(R^2):  0.047993314925407746\n"
     ]
    }
   ],
   "source": [
    "tmp = np.sqrt(r2_score(real, pred*(real@pred)/(pred@pred)))\n",
    "print('predictive sqrt(R^2): ', tmp)"
   ]
  },
  {
   "cell_type": "code",
   "execution_count": 6,
   "id": "7addc143-f944-4dde-a487-7dc44060db29",
   "metadata": {},
   "outputs": [
    {
     "name": "stdout",
     "output_type": "stream",
     "text": [
      "predictive correlation:  0.048\n"
     ]
    }
   ],
   "source": [
    "tmp = (pred@real) / np.sqrt( (pred@pred)*(real@real))\n",
    "print('predictive correlation: ', tmp)"
   ]
  },
  {
   "cell_type": "code",
   "execution_count": null,
   "id": "907a20e6-bd42-4d6a-9fac-5d3973ad87cd",
   "metadata": {},
   "outputs": [],
   "source": []
  },
  {
   "cell_type": "markdown",
   "id": "432ac78f-4ba6-4f6f-aaed-9488b500595c",
   "metadata": {},
   "source": [
    "# Predictive $R^2$ required to consistently beat the NFL spread"
   ]
  },
  {
   "cell_type": "markdown",
   "id": "43422a36-3c41-496c-9785-956911e0b435",
   "metadata": {},
   "source": [
    "Since $std(pred) = std(real) = 1$, we have $corr(pred,real) = cov(pred,real) = (np - n(1-p))/n = 2p - 1$, where p is the predictive accuracy.\n",
    "\n",
    "Therefore, the predictive accuracy is given by $p = 0.5 + corr(pred,real)/2$.\n",
    "\n",
    "A predictive accuracy threshold of $p = 52.4\\%$ is needed to profit in the NFL spread market on expectation, corresponding to a predictive correlation of 4.8% and predictive $R^2$ of 0.23%."
   ]
  },
  {
   "cell_type": "code",
   "execution_count": null,
   "id": "28d91a62-75ba-4e9a-97d1-552317fbedca",
   "metadata": {},
   "outputs": [],
   "source": []
  }
 ],
 "metadata": {
  "kernelspec": {
   "display_name": "Python 3 (ipykernel)",
   "language": "python",
   "name": "python3"
  },
  "language_info": {
   "codemirror_mode": {
    "name": "ipython",
    "version": 3
   },
   "file_extension": ".py",
   "mimetype": "text/x-python",
   "name": "python",
   "nbconvert_exporter": "python",
   "pygments_lexer": "ipython3",
   "version": "3.11.4"
  }
 },
 "nbformat": 4,
 "nbformat_minor": 5
}
